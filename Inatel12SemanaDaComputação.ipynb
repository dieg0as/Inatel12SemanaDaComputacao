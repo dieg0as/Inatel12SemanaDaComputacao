{
  "nbformat": 4,
  "nbformat_minor": 0,
  "metadata": {
    "colab": {
      "name": "Inatel12SemanaDaComputação.ipynb",
      "version": "0.3.2",
      "provenance": [],
      "collapsed_sections": []
    },
    "kernelspec": {
      "name": "python3",
      "display_name": "Python 3"
    }
  },
  "cells": [
    {
      "cell_type": "markdown",
      "metadata": {
        "id": "2J2Fwyx8PYI0",
        "colab_type": "text"
      },
      "source": [
        "# Ciência de dados é fácil! Certo?"
      ]
    },
    {
      "cell_type": "code",
      "metadata": {
        "id": "Ea4IhkTiLlWR",
        "colab_type": "code",
        "colab": {},
        "cellView": "form"
      },
      "source": [
        "#@title Carregar base de dados (New York City Taxi Fare Prediction | Kaggle)\n",
        "import pandas as pd\n",
        "import numpy as np\n",
        "import math\n",
        "from xgboost import XGBRegressor\n",
        "from sklearn.model_selection import train_test_split\n",
        "from sklearn.metrics import mean_absolute_error\n",
        "import warnings\n",
        "warnings.filterwarnings('ignore')\n",
        "\n",
        "\n",
        "!wget -q https://storage.googleapis.com/taxi-fare/afl.csv\n",
        "df = pd.read_csv('afl.csv') # afl.csv: Small sample from NYC Taxi 100K records (https://www1.nyc.gov/site/tlc/about/tlc-trip-record-data.page)\n",
        "df.head(1)"
      ],
      "execution_count": 0,
      "outputs": []
    },
    {
      "cell_type": "code",
      "metadata": {
        "id": "MKNqwMAOMzuu",
        "colab_type": "code",
        "colab": {},
        "cellView": "form"
      },
      "source": [
        "#@title Visualizar estatísticas da base \n",
        "df.describe(percentiles=[])"
      ],
      "execution_count": 0,
      "outputs": []
    },
    {
      "cell_type": "code",
      "metadata": {
        "id": "cnSNZXOhqTul",
        "colab_type": "code",
        "colab": {},
        "cellView": "form"
      },
      "source": [
        "#@title Lat/Long igual a zero... Pode isso?\n",
        "df = df[(df.pickup_longitude != 0)  & (df.pickup_latitude  != 0) &\n",
        "        (df.dropoff_longitude != 0) & (df.dropoff_latitude != 0) ]\n",
        "# df.describe(percentiles=[])"
      ],
      "execution_count": 0,
      "outputs": []
    },
    {
      "cell_type": "code",
      "metadata": {
        "id": "jjM5pIrnwvGA",
        "colab_type": "code",
        "colab": {},
        "cellView": "form"
      },
      "source": [
        "#@title Extrair características da base\n",
        "def sphere_dist(pickup_lat, pickup_lon, dropoff_lat, dropoff_lon):\n",
        "    \"\"\"\n",
        "    Return distance along great radius between pickup and dropoff coordinates.\n",
        "    \"\"\"\n",
        "    #Define earth radius (km)\n",
        "    R_earth = 6371\n",
        "    #Convert degrees to radians\n",
        "    pickup_lat, pickup_lon, dropoff_lat, dropoff_lon = map(np.radians,\n",
        "                                                             [pickup_lat, pickup_lon, \n",
        "                                                              dropoff_lat, dropoff_lon])\n",
        "    #Compute distances along lat, lon dimensions\n",
        "    dlat = dropoff_lat - pickup_lat\n",
        "    dlon = dropoff_lon - pickup_lon\n",
        "    \n",
        "    #Compute haversine distance\n",
        "    a = np.sin(dlat/2.0)**2 + np.cos(pickup_lat) * np.cos(dropoff_lat) * np.sin(dlon/2.0)**2\n",
        "    \n",
        "    return 2 * R_earth * np.arcsin(np.sqrt(a))\n",
        "\n",
        "def add_airport_dist(dataset):\n",
        "    \"\"\"\n",
        "    Return minumum distance from pickup or dropoff coordinates to each airport.\n",
        "    JFK: John F. Kennedy International Airport\n",
        "    EWR: Newark Liberty International Airport\n",
        "    LGA: LaGuardia Airport\n",
        "    \"\"\"\n",
        "    jfk_coord = (40.639722, -73.778889)\n",
        "    ewr_coord = (40.6925, -74.168611)\n",
        "    lga_coord = (40.77725, -73.872611)\n",
        "    \n",
        "    pickup_lat = dataset['pickup_latitude']\n",
        "    dropoff_lat = dataset['dropoff_latitude']\n",
        "    pickup_lon = dataset['pickup_longitude']\n",
        "    dropoff_lon = dataset['dropoff_longitude']\n",
        "    \n",
        "    pickup_jfk = sphere_dist(pickup_lat, pickup_lon, jfk_coord[0], jfk_coord[1]) \n",
        "    dropoff_jfk = sphere_dist(jfk_coord[0], jfk_coord[1], dropoff_lat, dropoff_lon) \n",
        "    pickup_ewr = sphere_dist(pickup_lat, pickup_lon, ewr_coord[0], ewr_coord[1])\n",
        "    dropoff_ewr = sphere_dist(ewr_coord[0], ewr_coord[1], dropoff_lat, dropoff_lon) \n",
        "    pickup_lga = sphere_dist(pickup_lat, pickup_lon, lga_coord[0], lga_coord[1]) \n",
        "    dropoff_lga = sphere_dist(lga_coord[0], lga_coord[1], dropoff_lat, dropoff_lon) \n",
        "    \n",
        "    dataset['JFKDist'] = pd.concat([pickup_jfk, dropoff_jfk], axis=1).min(axis=1)\n",
        "    dataset['EWRDist'] = pd.concat([pickup_ewr, dropoff_ewr], axis=1).min(axis=1)\n",
        "    dataset['LGADist'] = pd.concat([pickup_lga, dropoff_lga], axis=1).min(axis=1)\n",
        "    \n",
        "    return dataset\n",
        "    \n",
        "def add_datetime_info(dataset):\n",
        "    #Convert to datetime format\n",
        "    dataset['pickup_datetime'] = pd.to_datetime(dataset['pickup_datetime'],format=\"%Y-%m-%d %H:%M:%S UTC\")\n",
        "    dataset['DotW'] = dataset.pickup_datetime.dt.weekday \n",
        "    \n",
        "    return dataset\n",
        "\n",
        "  \n",
        "# Manipulate Dates\n",
        "df['Day'] = df['pickup_datetime'].str.slice(8,10)\n",
        "df['Month'] = df['pickup_datetime'].str.slice(5,7)\n",
        "df['Year'] = df['pickup_datetime'].str.slice(0,4)\n",
        "df['Hour'] = df['pickup_datetime'].str.slice(11,13)\n",
        "\n",
        "# Manipulate distance\n",
        "df['DistLat'] = np.absolute(df['pickup_latitude'] - df['dropoff_latitude'])\n",
        "df['DistLon'] = np.absolute(df['pickup_longitude'] - df['dropoff_longitude'])\n",
        "\n",
        "# Get distance!!!\n",
        "df['DistTot'] = np.sqrt(((df['pickup_longitude'] - df['dropoff_longitude'])**2)+\n",
        "                       ((np.absolute(df['pickup_latitude'] - df['dropoff_latitude'])**2)))\n",
        "\n",
        "# Manipulate variable type\n",
        "df['passenger_count'] = df['passenger_count'].astype('float')\n",
        "df['Day'] = df['Day'].astype('float')\n",
        "df['Month'] = df['Month'].astype('float')\n",
        "df['Year'] = df['Year'].astype('float')\n",
        "df['Hour'] = df['Hour'].astype('float')\n",
        "\n",
        "# Too bad!!!\n",
        "tooFar = (df['DistLat'] >= 2) | (df['DistLon'] >= 2)\n",
        "df.drop(df[tooFar].index, inplace=True)\n",
        "\n",
        "# Too too bad!!!\n",
        "badData = ((df['passenger_count'] == 0) | (df['fare_amount'] < 0) | \n",
        "           (df['pickup_longitude'] < -84) | (df['pickup_longitude'] > -64) | \n",
        "          (df['pickup_latitude'] < 30) | (df['pickup_latitude'] > 50))\n",
        "df.drop(df[badData].index, inplace=True)\n",
        "\n",
        "# Add the day of the week and airport distance (NICE!!!)\n",
        "df = add_datetime_info(df)\n",
        "df = add_airport_dist(df)\n",
        "\n",
        "\n",
        "print(\"Variáveis genuínas:\")\n",
        "print(list(df.columns.values)[:12])\n",
        "print(\"Variáveis novas:\")\n",
        "print(list(df.columns.values)[13:])"
      ],
      "execution_count": 0,
      "outputs": []
    },
    {
      "cell_type": "code",
      "metadata": {
        "id": "sIdmU7BtyIcf",
        "colab_type": "code",
        "colab": {},
        "cellView": "form"
      },
      "source": [
        "#@title Treinar Modelo Preditivo \n",
        "# We want to predict fare amount (y value) by using our predictors (x value)\n",
        "y = df['fare_amount']\n",
        "x = df[['DistLon','DistLat','DistTot',\n",
        "        'Day','Month','Year',\n",
        "        'Hour','passenger_count','pickup_longitude',\n",
        "        'pickup_latitude','dropoff_longitude','dropoff_latitude',\n",
        "        'DotW','JFKDist','EWRDist','LGADist']]\n",
        "\n",
        "# Split up data to train and test different parts\n",
        "xTrain, xTest, yTrain, yTest = train_test_split(x, y, test_size=0.001, random_state=1)\n",
        "\n",
        "# Split up data to train and validation different parts\n",
        "xTrain, xVal, yTrain, yVal = train_test_split(xTrain, yTrain, test_size=0.25, random_state=10)\n",
        "\n",
        "# Create/Fit Model\n",
        "model = XGBRegressor(learning_rate= .03, colsample_bytree = .8,\n",
        "                    max_depth= 8, subsample= 1,\n",
        "                    objective='reg:linear', eval_metric= 'rmse',\n",
        "                    early_stopping_rounds=10)\n",
        "\n",
        "model.fit(xTrain, yTrain)\n",
        "\n",
        "# Predict with model\n",
        "predictions = model.predict(xVal)\n",
        "\n",
        "# Test accuracy using the scoring system of Mean Absolute Error\n",
        "MAE = mean_absolute_error(yVal, predictions)\n",
        "print(\"Erro Absoluto Médio: {}\".format(MAE))"
      ],
      "execution_count": 0,
      "outputs": []
    },
    {
      "cell_type": "code",
      "metadata": {
        "id": "ggQtO9-a0MSX",
        "colab_type": "code",
        "colab": {},
        "cellView": "form"
      },
      "source": [
        "#@title Testar Modelo\n",
        "# Predict with model\n",
        "test_predict = model.predict(xTest)\n",
        "\n",
        "print(\"TestID: Predição (Referência)\\n--\")\n",
        "for index, fare in enumerate(test_predict):\n",
        "  print( \"Test#{}: {:.1f} ({})\".format(index, fare, yTest.to_numpy()[index]) )"
      ],
      "execution_count": 0,
      "outputs": []
    }
  ]
}